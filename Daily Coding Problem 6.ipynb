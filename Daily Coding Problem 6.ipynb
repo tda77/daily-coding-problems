{
 "cells": [
  {
   "cell_type": "markdown",
   "metadata": {},
   "source": [
    "This problem was asked by Google.\n",
    "\n",
    "An XOR linked list is a more memory efficient doubly linked list. Instead of each node holding next and prev fields, it holds a field named both, which is an XOR of the next node and the previous node. Implement an XOR linked list; it has an add(element) which adds the element to the end, and a get(index) which returns the node at index.\n",
    "\n",
    "If using a language that has no pointers (such as Python), you can assume you have access to get_pointer and dereference_pointer functions that converts between nodes and memory addresses."
   ]
  },
  {
   "cell_type": "markdown",
   "metadata": {},
   "source": [
    "Let's quick copy-paste over my python linked list implementation from another problem and make some modifications..."
   ]
  },
  {
   "cell_type": "markdown",
   "metadata": {},
   "source": [
    "#python linked lists\n",
    "\n",
    "class Node:\n",
    "    \n",
    "    def __init__(self, value):\n",
    "        self.value = value\n",
    "        self.next = None\n",
    "        \n",
    "    def __repr__(self):\n",
    "        selfstr = str(self.value)\n",
    "        nextstr = str(self.next.value) if self.next is not None else \"\"\n",
    "        return selfstr+\"->\"+nextstr\n",
    "        \n",
    "class LinkedList:\n",
    "    \n",
    "    def __init__(self):\n",
    "        self.head = None\n",
    "\n",
    "    def __repr__(self):\n",
    "        printMe=\"\"\n",
    "        current = self.head\n",
    "        while(current is not None):\n",
    "            printMe+=str(current.value)+\"->\"\n",
    "            current = current.next\n",
    "        return(printMe)\n",
    "        "
   ]
  },
  {
   "cell_type": "markdown",
   "metadata": {},
   "source": [
    "So, to-do:\n",
    "- change next to XOR in Node\n",
    "- add an add(element) method\n",
    "- add a get(index) method\n",
    "- assume use of get_pointer and dereference_pointer\n",
    "\n",
    "The cleverness behind an XOR doubly linked list is this: say you have (None)< - >1< - >4< - >2< - >(None)\n",
    "\n",
    "Then the head of the list is a node with value 1 and both field: None XOR 4\n",
    "\n",
    "If you know the previous element is (None), then to get the next element, you can XOR the previous Node and the both field:\n",
    "\n",
    "(None) XOR (None) XOR 4 just leaves 4.\n",
    "\n",
    "In this way, by XORs \"canceling\" each other out, the doubly linked list can be traversed."
   ]
  },
  {
   "cell_type": "code",
   "execution_count": 4,
   "metadata": {},
   "outputs": [],
   "source": [
    "#python linked lists\n",
    "\n",
    "class Node:\n",
    "\n",
    "    def __init__(self, value):\n",
    "        self.value = value\n",
    "        self.both = None\n",
    "\n",
    "    #def __repr__(self):\n",
    "    #    selfstr = str(self.value)\n",
    "    #    nextstr = str(self.next.value) if self.next is not None else \"\"\n",
    "    #    return selfstr+\"->\"+nextstr\n",
    "    \n",
    "    def get_pointer(self):\n",
    "        return None #return pointer\n",
    "    \n",
    "    def dereferencePointer(self):\n",
    "        return None\n",
    "\n",
    "class LinkedList:\n",
    "\n",
    "    def __init__(self):\n",
    "        self.head = None\n",
    "\n",
    "    #def __repr__(self):\n",
    "    #    printMe=\"\"\n",
    "    #    current = self.head\n",
    "    #    while(current is not None):\n",
    "    #        printMe+=str(current.value)+\"->\"\n",
    "    #        current = current.next\n",
    "    #    return(printMe)\n",
    "\n",
    "    #add to front\n",
    "    #set head both field to XOR of itself and node: 0 ^ next ^ node = next^node\n",
    "    #set node both field to XOR of 0 and the current head\n",
    "    #make that node the head\n",
    "    def addElement(self,node):\n",
    "        if self.head is None: self.head = node\n",
    "        else: \n",
    "            self.head.both = self.head.both ^ get_pointer(node)\n",
    "            node.both = 0 ^ get_pointer(self.head)\n",
    "            self.head = node\n",
    "    \n",
    "    \n",
    "    def get(index):\n",
    "        if index==0: return self.head\n",
    "        previous = self.head\n",
    "        current = dereference_pointer(self.head.both)\n",
    "    \n",
    "        #index times, get the next element by XORing the both field with the current node pointer\n",
    "        #current both = previous^next; previous^previous^next = next\n",
    "        i=1\n",
    "        while i<index:\n",
    "            tmp = current\n",
    "            current = dereference_pointer(get_pointer(previous) ^ current.both)\n",
    "            previous = tmp\n",
    "            if current is None: return None\n",
    "            i+=1\n",
    "            \n",
    "        return current\n",
    "    "
   ]
  },
  {
   "cell_type": "markdown",
   "metadata": {},
   "source": [
    "Sadly, since python has no get_pointer or dereference_pointer, this can't be tested. Yep, that really is too bad ..."
   ]
  },
  {
   "cell_type": "code",
   "execution_count": null,
   "metadata": {},
   "outputs": [],
   "source": []
  }
 ],
 "metadata": {
  "kernelspec": {
   "display_name": "Python 3",
   "language": "python",
   "name": "python3"
  },
  "language_info": {
   "codemirror_mode": {
    "name": "ipython",
    "version": 3
   },
   "file_extension": ".py",
   "mimetype": "text/x-python",
   "name": "python",
   "nbconvert_exporter": "python",
   "pygments_lexer": "ipython3",
   "version": "3.6.5"
  }
 },
 "nbformat": 4,
 "nbformat_minor": 2
}
