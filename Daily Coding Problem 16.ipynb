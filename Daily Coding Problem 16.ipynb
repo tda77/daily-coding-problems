{
 "cells": [
  {
   "cell_type": "markdown",
   "metadata": {},
   "source": [
    "This problem was asked by Twitter.\n",
    "\n",
    "You run an e-commerce website and want to record the last N order ids in a log. Implement a data structure to accomplish this, with the following API:\n",
    "\n",
    "    record(order_id): adds the order_id to the log\n",
    "    get_last(i): gets the ith last element from the log. i is guaranteed to be smaller than or equal to N.\n",
    "\n",
    "You should be as efficient with time and space as possible."
   ]
  },
  {
   "cell_type": "markdown",
   "metadata": {},
   "source": [
    "Let's do this with a dictionary! Dictionaries are based on hashtables, so they're pretty fast.\n",
    "\n",
    "We'll need a dictionary and a running count of the orders. The dictionary will be filled with count:order_id entries. Record will add the new entry and subtract the entry of count-N. And get_last(i) will look for count-i in the dictionary. Pretty straightforward?"
   ]
  },
  {
   "cell_type": "code",
   "execution_count": 33,
   "metadata": {},
   "outputs": [],
   "source": [
    "class Order_Log:\n",
    "    def __init__(self,N):\n",
    "        self.N=N\n",
    "        self.count=0\n",
    "        self.logs = {}\n",
    "    \n",
    "    def record(self,order_id):\n",
    "        self.logs[self.count]=order_id\n",
    "        self.count+=1\n",
    "        if self.count>self.N: del self.logs[self.count-self.N-1]\n",
    "            \n",
    "    def get_last(self,i):\n",
    "        return self.logs[self.count-i]\n",
    "    \n",
    "    def printlog(self):\n",
    "        for key in self.logs:\n",
    "            print(key,self.logs[key])"
   ]
  },
  {
   "cell_type": "code",
   "execution_count": 34,
   "metadata": {},
   "outputs": [],
   "source": [
    "log = Order_Log(5)"
   ]
  },
  {
   "cell_type": "code",
   "execution_count": 35,
   "metadata": {},
   "outputs": [
    {
     "name": "stdout",
     "output_type": "stream",
     "text": [
      "3 107\n",
      "4 109\n",
      "5 111\n",
      "6 113\n",
      "7 117\n"
     ]
    }
   ],
   "source": [
    "order_ids = [100,102,103,107,109,111,113,117]\n",
    "for order in order_ids:\n",
    "    log.record(order)\n",
    "log.printlog()"
   ]
  },
  {
   "cell_type": "code",
   "execution_count": 36,
   "metadata": {},
   "outputs": [
    {
     "data": {
      "text/plain": [
       "113"
      ]
     },
     "execution_count": 36,
     "metadata": {},
     "output_type": "execute_result"
    }
   ],
   "source": [
    "log.get_last(2)"
   ]
  },
  {
   "cell_type": "code",
   "execution_count": 37,
   "metadata": {},
   "outputs": [
    {
     "data": {
      "text/plain": [
       "117"
      ]
     },
     "execution_count": 37,
     "metadata": {},
     "output_type": "execute_result"
    }
   ],
   "source": [
    "log.record(121)\n",
    "log.get_last(2)"
   ]
  },
  {
   "cell_type": "code",
   "execution_count": 38,
   "metadata": {},
   "outputs": [
    {
     "name": "stdout",
     "output_type": "stream",
     "text": [
      "4 109\n",
      "5 111\n",
      "6 113\n",
      "7 117\n",
      "8 121\n"
     ]
    }
   ],
   "source": [
    "log.printlog()"
   ]
  },
  {
   "cell_type": "code",
   "execution_count": null,
   "metadata": {},
   "outputs": [],
   "source": []
  }
 ],
 "metadata": {
  "kernelspec": {
   "display_name": "Python 3",
   "language": "python",
   "name": "python3"
  },
  "language_info": {
   "codemirror_mode": {
    "name": "ipython",
    "version": 3
   },
   "file_extension": ".py",
   "mimetype": "text/x-python",
   "name": "python",
   "nbconvert_exporter": "python",
   "pygments_lexer": "ipython3",
   "version": "3.6.5"
  }
 },
 "nbformat": 4,
 "nbformat_minor": 2
}
