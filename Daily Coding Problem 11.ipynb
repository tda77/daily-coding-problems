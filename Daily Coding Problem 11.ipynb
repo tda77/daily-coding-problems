{
 "cells": [
  {
   "cell_type": "markdown",
   "metadata": {},
   "source": [
    "This problem was asked by Twitter.\n",
    "\n",
    "Implement an autocomplete system. That is, given a query string s and a set of all possible query strings, return all strings in the set that have s as a prefix.\n",
    "\n",
    "For example, given the query string de and the set of strings [dog, deer, deal], return [deer, deal].\n",
    "\n",
    "Hint: Try preprocessing the dictionary into a more efficient data structure to speed up queries."
   ]
  },
  {
   "cell_type": "markdown",
   "metadata": {},
   "source": [
    "My idea: I'm intrigued by \"preprocessing\" and \"dictionary\" in the problem statement. So: given a query string of length len(s), let's preprocess the query string list into a dictionary sorted by the first two characters.\n",
    "\n",
    "In this example, we'll take [dog, deer, deal] and turn it into:\n",
    "\n",
    "{'do': [\"dog\"],\n",
    "'de': [\"deer\", \"deal\"]}\n",
    "\n",
    "Then returning all strings in the set that have s as a prefix is as easy as calling on dict[s]!"
   ]
  },
  {
   "cell_type": "code",
   "execution_count": 3,
   "metadata": {},
   "outputs": [],
   "source": [
    "def query_to_dict(querylist):\n",
    "    \n",
    "    querydict={}\n",
    "    \n",
    "    for word in querylist:\n",
    "            if word[:2] not in querydict: querydict[word[:2]]=[word]\n",
    "            else: querydict[word[:2]].append(word)\n",
    "                \n",
    "    return querydict\n"
   ]
  },
  {
   "cell_type": "code",
   "execution_count": 5,
   "metadata": {},
   "outputs": [
    {
     "data": {
      "text/plain": [
       "{'do': ['dog'], 'de': ['deer', 'deal']}"
      ]
     },
     "execution_count": 5,
     "metadata": {},
     "output_type": "execute_result"
    }
   ],
   "source": [
    "example = query_to_dict([\"dog\",\"deer\",\"deal\"])\n",
    "example"
   ]
  },
  {
   "cell_type": "code",
   "execution_count": 6,
   "metadata": {},
   "outputs": [
    {
     "data": {
      "text/plain": [
       "['deer', 'deal']"
      ]
     },
     "execution_count": 6,
     "metadata": {},
     "output_type": "execute_result"
    }
   ],
   "source": [
    "s = \"de\"\n",
    "example[s]"
   ]
  },
  {
   "cell_type": "code",
   "execution_count": null,
   "metadata": {},
   "outputs": [],
   "source": []
  }
 ],
 "metadata": {
  "kernelspec": {
   "display_name": "Python 3",
   "language": "python",
   "name": "python3"
  },
  "language_info": {
   "codemirror_mode": {
    "name": "ipython",
    "version": 3
   },
   "file_extension": ".py",
   "mimetype": "text/x-python",
   "name": "python",
   "nbconvert_exporter": "python",
   "pygments_lexer": "ipython3",
   "version": "3.6.5"
  }
 },
 "nbformat": 4,
 "nbformat_minor": 2
}
