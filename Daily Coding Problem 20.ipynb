{
 "cells": [
  {
   "cell_type": "markdown",
   "metadata": {},
   "source": [
    "This problem was asked by Google.\n",
    "\n",
    "Given two singly linked lists that intersect at some point, find the intersecting node. The lists are non-cyclical.\n",
    "\n",
    "For example, given A = 3 -> 7 -> 8 -> 10 and B = 99 -> 1 -> 8 -> 10, return the node with value 8.\n",
    "\n",
    "In this example, assume nodes with the same value are the exact same node objects.\n",
    "\n",
    "Do this in O(M + N) time (where M and N are the lengths of the lists) and constant space."
   ]
  },
  {
   "cell_type": "markdown",
   "metadata": {},
   "source": [
    "My idea: say there are two linked lists that intersect. For example:\n",
    "\n",
    "10->2->23->47->16->8->3->15\n",
    "\n",
    "1->7->8->3->15\n",
    "\n",
    "This is how I understand the problem: the lists intersect, and then, because the elements are linked, they cannot diverge. \n",
    "\n",
    "Then the algorithm for finding the node at which they intersect (in this example, 8->3), is relatively simple. Traverse both lists to find their length (here, 8 and 5). Referring to the linked lists as big and small, again traverse the two lists, but start the big list at the len(big)-len(small) element. Here, 8-5=3, so we'd start at element three.\n",
    "\n",
    "big (1) 10->\n",
    "\n",
    "(2) 2->\n",
    "\n",
    "(3) 23->47->16->8->3->15\n",
    "\n",
    "small (1) 1->7->8->3->15\n",
    "\n",
    "From here, because the linked lists end at the same spot in the same number of steps, finding the first time they overlap is trivial."
   ]
  },
  {
   "cell_type": "markdown",
   "metadata": {},
   "source": [
    "I also want to take the opportunity to code linked lists in python, because I haven't done that before and it seems fun."
   ]
  },
  {
   "cell_type": "code",
   "execution_count": 69,
   "metadata": {},
   "outputs": [],
   "source": [
    "#python linked lists\n",
    "class Node:\n",
    "    def __init__(self, value):\n",
    "        self.value = value\n",
    "        self.next = None\n",
    "        \n",
    "    def __repr__(self):\n",
    "        selfstr = str(self.value)\n",
    "        nextstr = str(self.next.value) if self.next is not None else \"\"\n",
    "        return selfstr+\"->\"+nextstr\n",
    "        \n",
    "class LinkedList:\n",
    "    def __init__(self):\n",
    "        self.head = None\n",
    "\n",
    "    def __repr__(self):\n",
    "        printMe=\"\"\n",
    "        current = self.head\n",
    "        while(current is not None):\n",
    "            printMe+=str(current.value)+\"->\"\n",
    "            current = current.next\n",
    "        return(printMe)\n",
    "        \n",
    "#for testing purposes, method to turn a list into a linked list\n",
    "#precondition: aList must have at least two elements\n",
    "def list_to_linked(aList):\n",
    "    linked = LinkedList()\n",
    "    aList[0] = Node(aList[0])\n",
    "    linked.head = aList[0]\n",
    "    \n",
    "    for i in range(1,len(aList)-1):\n",
    "        aList[i] = Node(aList[i])\n",
    "        aList[i-1].next = aList[i]\n",
    "        \n",
    "    #last Node.next will automatically point to None \n",
    "    return linked"
   ]
  },
  {
   "cell_type": "code",
   "execution_count": 70,
   "metadata": {},
   "outputs": [
    {
     "data": {
      "text/plain": [
       "10->2->23->47->16->8->3->"
      ]
     },
     "execution_count": 70,
     "metadata": {},
     "output_type": "execute_result"
    }
   ],
   "source": [
    "linked1 = list_to_linked([10,2,23,47,16,8,3,15])\n",
    "linked1"
   ]
  },
  {
   "cell_type": "code",
   "execution_count": 71,
   "metadata": {},
   "outputs": [
    {
     "data": {
      "text/plain": [
       "1->7->8->3->"
      ]
     },
     "execution_count": 71,
     "metadata": {},
     "output_type": "execute_result"
    }
   ],
   "source": [
    "linked2 = list_to_linked([1,7,8,3,15])\n",
    "linked2"
   ]
  },
  {
   "cell_type": "code",
   "execution_count": 72,
   "metadata": {},
   "outputs": [
    {
     "data": {
      "text/plain": [
       "0->"
      ]
     },
     "execution_count": 72,
     "metadata": {},
     "output_type": "execute_result"
    }
   ],
   "source": [
    "Node(0)"
   ]
  },
  {
   "cell_type": "markdown",
   "metadata": {},
   "source": [
    "Now, for the challenge! Running the algorithm described above: find the length of each linked list, re-traverse by starting at element 3 of longer list, stop when the Node values (per problem description) are the same."
   ]
  },
  {
   "cell_type": "code",
   "execution_count": 73,
   "metadata": {},
   "outputs": [],
   "source": [
    "def linkedlistlength(llist):\n",
    "    length = 1\n",
    "    current = llist.head\n",
    "    while(current is not None):\n",
    "        length+=1\n",
    "        current = current.next\n",
    "    return length"
   ]
  },
  {
   "cell_type": "code",
   "execution_count": 74,
   "metadata": {},
   "outputs": [
    {
     "data": {
      "text/plain": [
       "8"
      ]
     },
     "execution_count": 74,
     "metadata": {},
     "output_type": "execute_result"
    }
   ],
   "source": [
    "linkedlistlength(linked1)"
   ]
  },
  {
   "cell_type": "code",
   "execution_count": 75,
   "metadata": {},
   "outputs": [
    {
     "data": {
      "text/plain": [
       "5"
      ]
     },
     "execution_count": 75,
     "metadata": {},
     "output_type": "execute_result"
    }
   ],
   "source": [
    "linkedlistlength(linked2)"
   ]
  },
  {
   "cell_type": "code",
   "execution_count": 83,
   "metadata": {},
   "outputs": [],
   "source": [
    "def common_node(llist1,llist2):\n",
    "    a = linkedlistlength(llist1)\n",
    "    b = linkedlistlength(llist2)\n",
    "    llistlens = {a:llist1,b:llist2}\n",
    "    longlist = llistlens[max(a,b)]\n",
    "    shortlist = llistlens[min(a,b)]\n",
    "    long_start_ele = max(a,b)-min(a,b)\n",
    "\n",
    "    longlist_current = longlist.head\n",
    "    for i in range(long_start_ele):\n",
    "        longlist_current = longlist_current.next\n",
    "    \n",
    "    shortlist_current = shortlist.head\n",
    "\n",
    "    for i in range(min(a,b)-1):\n",
    "        if longlist_current.value==shortlist_current.value:\n",
    "            return longlist_current\n",
    "        longlist_current = longlist_current.next\n",
    "        shortlist_current = shortlist_current.next\n",
    "    \n",
    "    return None"
   ]
  },
  {
   "cell_type": "code",
   "execution_count": 84,
   "metadata": {},
   "outputs": [
    {
     "name": "stdout",
     "output_type": "stream",
     "text": [
      "8->3\n"
     ]
    }
   ],
   "source": [
    "print(common_node(linked1,linked2))"
   ]
  },
  {
   "cell_type": "markdown",
   "metadata": {},
   "source": [
    "Woo!"
   ]
  },
  {
   "cell_type": "code",
   "execution_count": null,
   "metadata": {},
   "outputs": [],
   "source": []
  }
 ],
 "metadata": {
  "kernelspec": {
   "display_name": "Python 3",
   "language": "python",
   "name": "python3"
  },
  "language_info": {
   "codemirror_mode": {
    "name": "ipython",
    "version": 3
   },
   "file_extension": ".py",
   "mimetype": "text/x-python",
   "name": "python",
   "nbconvert_exporter": "python",
   "pygments_lexer": "ipython3",
   "version": "3.6.5"
  }
 },
 "nbformat": 4,
 "nbformat_minor": 2
}
