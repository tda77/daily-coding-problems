{
 "cells": [
  {
   "cell_type": "markdown",
   "metadata": {},
   "source": [
    "This problem was asked by Airbnb.\n",
    "\n",
    "Given a list of integers, write a function that returns the largest sum of non-adjacent numbers. Numbers can be 0 or negative.\n",
    "\n",
    "For example, [2, 4, 6, 2, 5] should return 13, since we pick 2, 6, and 5. [5, 1, 1, 5] should return 10, since we pick 5 and 5.\n",
    "\n",
    "Follow-up: Can you do this in O(N) time and constant space?"
   ]
  },
  {
   "cell_type": "markdown",
   "metadata": {},
   "source": [
    "Consider the example [2,4,6,2,5]. In trying to find the largest sum of non-adj numbers, the question to start isn't pick 2 or 4, the question is pick 2+6 or pick 4. When we consider the fourth element, the question becomes, pick 2+6, 4+2, or 2+2. Then at the fifth element - 2+6+5, or 4+5. Agh!\n",
    "\n",
    "That's a pretty complicated way to think about it. Let's try another way:\n",
    "\n",
    "The largest sum has to include 2 or 4. In fact, the largest sum is the max of the biggest sum that includes 2 and the biggest sum that includes 4. Useful - and a hint that we can use recursion!\n",
    "\n",
    "The question about a sum with 2 in it is: is it best to add 2+6, a[0]+a[2], or 2+2, a[0]+a[3]? We're asking an identical question as before: the largest sum is the max of the biggest sum that includes 2+6 or the biggest sum that inclues 2+2! Same with 4+2 or 4+5.\n",
    "\n",
    "In general, we're comparing sums that include a[i] and a[i+1]. a[i]'s biggest sum is either a[i]+a[i+2] or a[i]+a[i+3], while a[i+1]'s biggest sum is a[i+1]+a[i+3] or a[i+1]+a[i+4]. But the sum for a[i+3] includes a[i+5] or a[i+6], and so on... This recursive process ends when we reach the end of the list. If len(a)=n, then a[n-2] and a[n-1] are boundaries."
   ]
  },
  {
   "cell_type": "code",
   "execution_count": 44,
   "metadata": {},
   "outputs": [
    {
     "data": {
      "text/plain": [
       "13"
      ]
     },
     "execution_count": 44,
     "metadata": {},
     "output_type": "execute_result"
    }
   ],
   "source": [
    "def largest_sum_from(arr, index):\n",
    "    #first, I worry calling a[i+2] and a[i+3] will land us out of bounds. if so, return 0\n",
    "    if index>len(arr)-1: return 0\n",
    "    \n",
    "    #next, if we've reached either endpoint in the array, return the number at that position\n",
    "    #actually, given the code above, I don't think this matters. We'll just call 'til we return 0 for out of bounds.\n",
    "    #if n>len(a)-3: return a[index]\n",
    "    \n",
    "    return arr[index]+max(largest_sum_from(arr,index+2), largest_sum_from(arr,index+3))\n",
    "\n",
    "def largest_sum(arr):\n",
    "    return max(largest_sum_from(arr,0), largest_sum_from(arr,1))\n",
    "\n",
    "a = [2,4,6,2,5]\n",
    "largest_sum(a)"
   ]
  },
  {
   "cell_type": "code",
   "execution_count": 45,
   "metadata": {},
   "outputs": [
    {
     "data": {
      "text/plain": [
       "11"
      ]
     },
     "execution_count": 45,
     "metadata": {},
     "output_type": "execute_result"
    }
   ],
   "source": [
    "b = [1,5,1,1,5,5]\n",
    "largest_sum(b)"
   ]
  },
  {
   "cell_type": "code",
   "execution_count": 22,
   "metadata": {},
   "outputs": [
    {
     "data": {
      "text/plain": [
       "0"
      ]
     },
     "execution_count": 22,
     "metadata": {},
     "output_type": "execute_result"
    }
   ],
   "source": [
    "largest_sum([])"
   ]
  },
  {
   "cell_type": "code",
   "execution_count": 23,
   "metadata": {},
   "outputs": [
    {
     "data": {
      "text/plain": [
       "4"
      ]
     },
     "execution_count": 23,
     "metadata": {},
     "output_type": "execute_result"
    }
   ],
   "source": [
    "largest_sum([4])"
   ]
  },
  {
   "cell_type": "code",
   "execution_count": 25,
   "metadata": {},
   "outputs": [
    {
     "data": {
      "text/plain": [
       "5"
      ]
     },
     "execution_count": 25,
     "metadata": {},
     "output_type": "execute_result"
    }
   ],
   "source": [
    "largest_sum([4,5])"
   ]
  },
  {
   "cell_type": "markdown",
   "metadata": {},
   "source": [
    "So. Success. But it's a little slow in that it can call some recursive elements more than once.\n",
    "For example, largest_sum_from(a,1) looks at l_s_f(a,3) and l_s_f(a,4), and largest_sum_from(a,2) looks at l_s_f(a,4) and l_s_f(a,5). So it'd be nice to store the value of l_s_f(a,2) once we find it so it doesn't have to be recursively called again.\n",
    "\n"
   ]
  },
  {
   "cell_type": "code",
   "execution_count": 61,
   "metadata": {},
   "outputs": [],
   "source": [
    "def largest_sum_from(arr, master, index):\n",
    "    \n",
    "    #solve out of bounds issues - only look at master list at i+2 and i+3 if they're in bounds\n",
    "    if index>len(arr)-1: return 0\n",
    "    m2 = 0 if index+2>len(arr)-1 else master[index+2] \n",
    "    m3 = 0 if index+3>len(arr)-1 else master[index+3]\n",
    "    \n",
    "    #same recursive line as before, except i+2 and i+3 sums are already computed, once, and stored\n",
    "    return arr[index]+max(m2, m3)\n",
    "\n",
    "def largest_sum(arr):\n",
    "    #avoid oob errors for small lists\n",
    "    if len(arr)==0: return 0\n",
    "    if len(arr)==1: return arr[0]\n",
    "    \n",
    "    #fill a master list from the back to the front, easy to hard\n",
    "    m = [0 for num in arr]\n",
    "    for i in range(len(m)-1, -1,-1):\n",
    "        m[i] = largest_sum_from(arr,m,i)\n",
    "    \n",
    "    #circling back to the beginning - the biggest non-adj list includes either the first or second element\n",
    "    return max(m[0],m[1])"
   ]
  },
  {
   "cell_type": "code",
   "execution_count": 62,
   "metadata": {},
   "outputs": [
    {
     "data": {
      "text/plain": [
       "13"
      ]
     },
     "execution_count": 62,
     "metadata": {},
     "output_type": "execute_result"
    }
   ],
   "source": [
    "a = [2,4,6,2,5]\n",
    "largest_sum(a)"
   ]
  },
  {
   "cell_type": "code",
   "execution_count": 63,
   "metadata": {},
   "outputs": [
    {
     "data": {
      "text/plain": [
       "11"
      ]
     },
     "execution_count": 63,
     "metadata": {},
     "output_type": "execute_result"
    }
   ],
   "source": [
    "b = [1,5,1,1,5,5]\n",
    "largest_sum(b)"
   ]
  },
  {
   "cell_type": "code",
   "execution_count": 64,
   "metadata": {},
   "outputs": [
    {
     "data": {
      "text/plain": [
       "4"
      ]
     },
     "execution_count": 64,
     "metadata": {},
     "output_type": "execute_result"
    }
   ],
   "source": [
    "largest_sum([4])"
   ]
  },
  {
   "cell_type": "code",
   "execution_count": 65,
   "metadata": {},
   "outputs": [
    {
     "data": {
      "text/plain": [
       "0"
      ]
     },
     "execution_count": 65,
     "metadata": {},
     "output_type": "execute_result"
    }
   ],
   "source": [
    "largest_sum([])"
   ]
  },
  {
   "cell_type": "code",
   "execution_count": 67,
   "metadata": {},
   "outputs": [
    {
     "data": {
      "text/plain": [
       "6"
      ]
     },
     "execution_count": 67,
     "metadata": {},
     "output_type": "execute_result"
    }
   ],
   "source": [
    "largest_sum([6,4])"
   ]
  },
  {
   "cell_type": "markdown",
   "metadata": {},
   "source": [
    "Achieved - O(N) time and constant space!\n",
    "Wait. Does making a new array count as constant space? (Yes, obviously, as it scales with the size of a). Oh no..."
   ]
  },
  {
   "cell_type": "markdown",
   "metadata": {},
   "source": [
    "Can I accomplish with a variable or two what I accomplished recursively? Basically, the code does this:\n",
    "#let n=len(a)\n",
    "- m[n-1] = a[n-1]\n",
    "- m[n-2] = a[n-2]\n",
    "- m[n-3] = a[n-3] + max(m[n-1],0)\n",
    "- m[n-4] = a[n-4] + max(m[n-2],m[n-1])\n",
    "- m[n-5] = a[n-5] + max(m[n-3],m[n-2])\n",
    "- m[n-6] = a[n-6] + max(m[n-4],m[n-3])\n",
    "\n",
    "- ...\n",
    "- m[1] = a[1] + max(m[3],m[4])\n",
    "- m[0] = a[0] + max(m[2],m[3])\n",
    "\n",
    "- ans = max(m[0],m[1])\n"
   ]
  },
  {
   "cell_type": "markdown",
   "metadata": {},
   "source": [
    "n-3 is where we do the first sum, but n-4 is where we make the first choice. When we make that choice, can we replace the choice with a variable?"
   ]
  },
  {
   "cell_type": "markdown",
   "metadata": {},
   "source": [
    "- (1) currmax0 = a[n-1]\n",
    "- (2) currmax1 = a[n-2]\n",
    "- (3) oldcurrmax0 = currmax0; currmax0 = a[n-3] + max(oldcurrmax0,0)\n",
    "- (4) oldcurrmax1 = currmax1, currmax1 = a[n-4] + max(oldcurrmax1,oldcurrmax0)\n",
    "- (5) oldcurrmax0 = currmax0; currmax0 = a[n-5] + max(oldcurrmax0,oldcurrmax1)\n",
    "- ...\n",
    "- oldcurrmax1 = currmax1; currmax1 = a[1] + max(oldcurrmax1,oldcurrmax0)\n",
    "- oldcurrmax0 = currmax0; currmax0 = a[0] + max(oldcurrmax0,oldcurrmax1)\n",
    "\n",
    "- ans = max(currmax0,currmax1)\n",
    "\n",
    "Without loss of generality, the a[n-1] one can be called currmax0 or currmax1 - all that matters is they oscillate (I originally called them currmax1 and currmax2, but 0 and 1 is nicer mod 2.)\n",
    "\n",
    "Whenever we try to find a max at a[k], assume wlog that k is even. Then oldcurrmax0 represents a[k-2], oldcurrmax1 represens a[k-3], currmax1 a[k-1] which we're not using, and currmax0 = a[k] + max[oldcurrmax0,oldcurrmax1]"
   ]
  },
  {
   "cell_type": "code",
   "execution_count": 99,
   "metadata": {},
   "outputs": [],
   "source": [
    "#another attempt at linear time and constant space\n",
    "def largest_sum(arr):\n",
    "    if len(arr)==0: return 0\n",
    "    if len(arr)==1: return arr[0]\n",
    "    if len(arr)==2: return max(arr[0],arr[1])\n",
    "\n",
    "    n = len(arr)\n",
    "    currmax = [0,0]\n",
    "    currmax[(n-1)%2] = arr[n-3]+max(a[n-1],0)\n",
    "    currmax[n%2] = arr[n-2]\n",
    "\n",
    "    oldcurrmax = [0,0]\n",
    "    \n",
    "    for i in range(4,n+1):\n",
    "        curr_ind = (n-i)%2\n",
    "        oldcurrmax[curr_ind]=currmax[curr_ind]\n",
    "        currmax[curr_ind] = max(arr[n-i],0)+max(oldcurrmax)\n",
    "\n",
    "    return max(currmax)\n",
    "    "
   ]
  },
  {
   "cell_type": "code",
   "execution_count": 100,
   "metadata": {},
   "outputs": [
    {
     "data": {
      "text/plain": [
       "13"
      ]
     },
     "execution_count": 100,
     "metadata": {},
     "output_type": "execute_result"
    }
   ],
   "source": [
    "a = [2,4,6,2,5]\n",
    "largest_sum(a)"
   ]
  },
  {
   "cell_type": "code",
   "execution_count": 101,
   "metadata": {},
   "outputs": [
    {
     "data": {
      "text/plain": [
       "11"
      ]
     },
     "execution_count": 101,
     "metadata": {},
     "output_type": "execute_result"
    }
   ],
   "source": [
    "a = [-2,4,5,2,6]\n",
    "largest_sum(a)"
   ]
  },
  {
   "cell_type": "code",
   "execution_count": 102,
   "metadata": {},
   "outputs": [
    {
     "data": {
      "text/plain": [
       "4"
      ]
     },
     "execution_count": 102,
     "metadata": {},
     "output_type": "execute_result"
    }
   ],
   "source": [
    "b = [4]\n",
    "largest_sum(b)"
   ]
  },
  {
   "cell_type": "code",
   "execution_count": 104,
   "metadata": {},
   "outputs": [
    {
     "data": {
      "text/plain": [
       "0"
      ]
     },
     "execution_count": 104,
     "metadata": {},
     "output_type": "execute_result"
    }
   ],
   "source": [
    "c = []\n",
    "largest_sum(c)"
   ]
  },
  {
   "cell_type": "code",
   "execution_count": 106,
   "metadata": {},
   "outputs": [
    {
     "data": {
      "text/plain": [
       "10"
      ]
     },
     "execution_count": 106,
     "metadata": {},
     "output_type": "execute_result"
    }
   ],
   "source": [
    "d = [5,1,5,1]\n",
    "largest_sum(d)"
   ]
  },
  {
   "cell_type": "markdown",
   "metadata": {},
   "source": [
    "That was a bear. I have a feeling it can be done with three or maybe two variables but, hey, mission accomplished."
   ]
  },
  {
   "cell_type": "code",
   "execution_count": null,
   "metadata": {},
   "outputs": [],
   "source": []
  }
 ],
 "metadata": {
  "kernelspec": {
   "display_name": "Python 3",
   "language": "python",
   "name": "python3"
  },
  "language_info": {
   "codemirror_mode": {
    "name": "ipython",
    "version": 3
   },
   "file_extension": ".py",
   "mimetype": "text/x-python",
   "name": "python",
   "nbconvert_exporter": "python",
   "pygments_lexer": "ipython3",
   "version": "3.6.5"
  }
 },
 "nbformat": 4,
 "nbformat_minor": 2
}
