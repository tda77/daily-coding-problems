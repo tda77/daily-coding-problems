{
 "cells": [
  {
   "cell_type": "markdown",
   "metadata": {},
   "source": [
    "This problem was asked by Google.\n",
    "\n",
    "The area of a circle is defined as πr^2. Estimate π to 3 decimal places using a Monte Carlo method.\n",
    "\n",
    "Hint: The basic equation of a circle is x2 + y2 = r2."
   ]
  },
  {
   "cell_type": "markdown",
   "metadata": {},
   "source": [
    "Easy, ya? \"Drop\" a random x,y point in, say a 10x10 square. See if it falls inside of the y^2 = 100-x^2 curve. Proportion of points inside to total points = 1/4pi*10^2 : 10^2. So pi is 4 times this proportion."
   ]
  },
  {
   "cell_type": "code",
   "execution_count": 19,
   "metadata": {},
   "outputs": [
    {
     "name": "stdout",
     "output_type": "stream",
     "text": [
      "3.144184\n"
     ]
    }
   ],
   "source": [
    "import random\n",
    "\n",
    "def point_in_circle():\n",
    "    xdrop = random.uniform(0,10)\n",
    "\n",
    "    ydrop = random.uniform(0,10)\n",
    "\n",
    "    ypred = (10**2-xdrop**2)**(1/2) #equation of curve of circle\n",
    "    if ydrop < ypred: return True\n",
    "    return False\n",
    "\n",
    "good_drops = 0\n",
    "trials = 1000000\n",
    "for i in range(trials):\n",
    "    if point_in_circle(): good_drops+=1\n",
    "\n",
    "print(4*good_drops/trials)"
   ]
  }
 ],
 "metadata": {
  "kernelspec": {
   "display_name": "Python 3",
   "language": "python",
   "name": "python3"
  },
  "language_info": {
   "codemirror_mode": {
    "name": "ipython",
    "version": 3
   },
   "file_extension": ".py",
   "mimetype": "text/x-python",
   "name": "python",
   "nbconvert_exporter": "python",
   "pygments_lexer": "ipython3",
   "version": "3.6.5"
  }
 },
 "nbformat": 4,
 "nbformat_minor": 2
}
