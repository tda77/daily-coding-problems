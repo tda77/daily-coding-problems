{
 "cells": [
  {
   "cell_type": "markdown",
   "metadata": {},
   "source": [
    "This problem was asked by Facebook.\n",
    "\n",
    "Given a stream of elements too large to store in memory, pick a random element from the stream with uniform probability."
   ]
  },
  {
   "cell_type": "markdown",
   "metadata": {},
   "source": [
    "I haven't dealt with a stream before. But let's consider the math of picking a random element from a \"stream\" of elements.\n",
    "\n",
    "If there's one element, you pick that one. If there's a second element, you can call a random int generator from 0 to 1, inclusive. If you get 1, you pick the second element, else you stay with the first element. For a third element, you call the random generator 0 to 2. If you get 2, you pick the third element, else you stay with your random choice.\n",
    "\n",
    "In general, after n elements, call the random number generator 0 to n. If you get n-1, the new streamed element is the random one. Else, keep the old streamed element."
   ]
  },
  {
   "cell_type": "code",
   "execution_count": 6,
   "metadata": {},
   "outputs": [],
   "source": []
  },
  {
   "cell_type": "code",
   "execution_count": 51,
   "metadata": {},
   "outputs": [],
   "source": [
    "import random\n",
    "\n",
    "def random_element(new_num,count):\n",
    "    \n",
    "    if count==0: return new_num\n",
    "    else:\n",
    "        rand = random.randint(0,count)\n",
    "        if rand==count: return new_num\n",
    "        else: return None\n"
   ]
  },
  {
   "cell_type": "code",
   "execution_count": 52,
   "metadata": {},
   "outputs": [
    {
     "name": "stdout",
     "output_type": "stream",
     "text": [
      "after 0 elements, 0 is the random element.\n",
      "after 1 elements, 0 is the random element.\n",
      "after 2 elements, 5 is the random element.\n",
      "after 3 elements, 5 is the random element.\n",
      "after 4 elements, 5 is the random element.\n",
      "after 5 elements, 5 is the random element.\n",
      "after 6 elements, 11 is the random element.\n",
      "after 7 elements, 11 is the random element.\n",
      "after 8 elements, 2 is the random element.\n",
      "after 9 elements, 2 is the random element.\n",
      "after 10 elements, 2 is the random element.\n"
     ]
    }
   ],
   "source": [
    "rand_ele = None\n",
    "\n",
    "stream = [0,2,5,7,3,6,11,1,2,4,17]\n",
    "for i in range(len(stream)):\n",
    "    new_one = random_element(stream[i],i)\n",
    "    if new_one is not None: rand_ele = new_one\n",
    "    print(f\"after {i} elements, {rand_ele} is the random element.\")"
   ]
  },
  {
   "cell_type": "code",
   "execution_count": null,
   "metadata": {},
   "outputs": [],
   "source": []
  }
 ],
 "metadata": {
  "kernelspec": {
   "display_name": "Python 3",
   "language": "python",
   "name": "python3"
  },
  "language_info": {
   "codemirror_mode": {
    "name": "ipython",
    "version": 3
   },
   "file_extension": ".py",
   "mimetype": "text/x-python",
   "name": "python",
   "nbconvert_exporter": "python",
   "pygments_lexer": "ipython3",
   "version": "3.6.5"
  }
 },
 "nbformat": 4,
 "nbformat_minor": 2
}
