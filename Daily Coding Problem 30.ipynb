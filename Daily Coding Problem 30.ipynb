{
 "cells": [
  {
   "cell_type": "markdown",
   "metadata": {},
   "source": [
    "This problem was asked by Facebook.\n",
    "\n",
    "You are given an array of non-negative integers that represents a two-dimensional elevation map where each element is unit-width wall and the integer is the height. Suppose it will rain and all spots between two walls get filled up.\n",
    "\n",
    "Compute how many units of water remain trapped on the map in O(N) time and O(1) space.\n",
    "\n",
    "For example, given the input [2, 1, 2], we can hold 1 unit of water in the middle.\n",
    "\n",
    "Given the input [3, 0, 1, 3, 0, 5], we can hold 3 units in the first index, 2 in the second, and 3 in the fourth index (we cannot hold 5 since it would run off to the left), so we can trap 8 units of water."
   ]
  },
  {
   "cell_type": "markdown",
   "metadata": {},
   "source": [
    "This is an extrema question! Yes, calculus!\n",
    "\n",
    "Walls of each \"bucket\" of water are local maxes. Can we identify local maxes in O(N) time and O(1) space? Sure, easily: we look for sign changes. \n",
    "\n",
    "Consider three wall heights: a,b,c, in order. If h_b>h_a, and h_b>h_c, then h_b is a local max, and so a wall for our bucket. Let's write a function to identify local maxes."
   ]
  },
  {
   "cell_type": "code",
   "execution_count": 6,
   "metadata": {},
   "outputs": [],
   "source": [
    "#return endpoints and local max indices\n",
    "def max_indices(arr):\n",
    "    if len(arr)<=1: return [0]\n",
    "    maxes=[0]\n",
    "    for i in range(1,len(arr)-1):\n",
    "        if arr[i]>=arr[i-1] and arr[i]>arr[i+1]: maxes.append(i)\n",
    "    maxes.append(len(arr)-1)\n",
    "    return maxes\n",
    "\n",
    "    "
   ]
  },
  {
   "cell_type": "code",
   "execution_count": 7,
   "metadata": {},
   "outputs": [
    {
     "data": {
      "text/plain": [
       "[0, 2]"
      ]
     },
     "execution_count": 7,
     "metadata": {},
     "output_type": "execute_result"
    }
   ],
   "source": [
    "ex = [2,1,2]\n",
    "max_indices(ex)"
   ]
  },
  {
   "cell_type": "code",
   "execution_count": 8,
   "metadata": {},
   "outputs": [
    {
     "data": {
      "text/plain": [
       "[0, 3, 5]"
      ]
     },
     "execution_count": 8,
     "metadata": {},
     "output_type": "execute_result"
    }
   ],
   "source": [
    "ex = [3,0,1,3,0,5]\n",
    "max_indices(ex)"
   ]
  },
  {
   "cell_type": "code",
   "execution_count": 9,
   "metadata": {},
   "outputs": [
    {
     "data": {
      "text/plain": [
       "[0, 3, 5]"
      ]
     },
     "execution_count": 9,
     "metadata": {},
     "output_type": "execute_result"
    }
   ],
   "source": [
    "ex = [2,0,4,4,0,2]\n",
    "max_indices(ex)"
   ]
  },
  {
   "cell_type": "code",
   "execution_count": 5,
   "metadata": {},
   "outputs": [
    {
     "data": {
      "text/plain": [
       "[0]"
      ]
     },
     "execution_count": 5,
     "metadata": {},
     "output_type": "execute_result"
    }
   ],
   "source": [
    "max_indices([7])"
   ]
  },
  {
   "cell_type": "markdown",
   "metadata": {},
   "source": [
    "Ok, so now that we can grab the walls between which water is held, we can compute how much water can be held by each bucket (gap between maxes). This amount of water is min(local_max1,local_max2)-wallheight_i for every i between the two max indices.\n",
    "\n",
    "This won't work, though, for a set of walls like [3,0,1,0,3]. The idea above will fill 1 and 1, when the answer should be fill 3,2,3. Hm.\n",
    "\n",
    "We can use the above method and then literally fill the gaps, iteratively, and run it again. Like how water really fills the gaps. In the example above, \n",
    "\n",
    "[3,0,1,0,3] --> [3,1,1,1,3] --> [3,3,3,3,3]\n",
    "\n",
    "Or rather, I want it to work this way, but with how I've written max_indices, each 1 will be identified as a max and so none of those gaps will be filled. Hm."
   ]
  },
  {
   "cell_type": "code",
   "execution_count": 10,
   "metadata": {},
   "outputs": [
    {
     "data": {
      "text/plain": [
       "[0, 4]"
      ]
     },
     "execution_count": 10,
     "metadata": {},
     "output_type": "execute_result"
    }
   ],
   "source": [
    "ex = [3,1,1,1,3]\n",
    "max_indices(ex)"
   ]
  },
  {
   "cell_type": "markdown",
   "metadata": {},
   "source": [
    "I changed max indices so that it will only recognize the last max in a set of repeated maxes: ie, in [2,0,1,1,0,4] it will only recognize the second one. This change also means, in [2,1,1,3] none of the ones will be recognized as maxes.\n",
    "\n",
    "So, idea: fill every index between two local maxes (inclusive) with an amount of water equal to the min(left_max_ht,right_max_ht). This should correspond to the first water buckets that get filled. If this works, I'll worry about the second filling."
   ]
  },
  {
   "cell_type": "markdown",
   "metadata": {},
   "source": [
    "Actually, let's worry about that now. If there are n walls, then I'll have to do a second filling, maybe a third, maybe a fourth, up to possible n-1 fillings. That means my runtime will be O(n^2). Not good enough.\n",
    "\n",
    "Let's think about the problem in a different way (and thanks to GeeksforGeeks for the intuition). Every index in the arr will eventually be part of a bucket of water whose left wall will be the tallest wall to its left and whose right wall will be the tallest wall to its right. It should be pretty easy to compute the tallest wall to the left and right for any index i. Let's do that in two loops, filling left_walls and right_walls.\n",
    "\n",
    "Once we have the wall heights, then by the same logic as before, each index gets filled to the min of (left_wall, right_wall). So let's \"fill\" them one by one and keep track of the amount of water that gets used: (min(l,r)-height)."
   ]
  },
  {
   "cell_type": "code",
   "execution_count": 13,
   "metadata": {},
   "outputs": [],
   "source": [
    "def fill(walls):\n",
    "    n = len(walls)\n",
    "    left = [0 for i in range(n)]\n",
    "    right = [0 for i in range(n)]\n",
    "    \n",
    "    for i in range(n):\n",
    "        left[i] = max(left[i-1],walls[i])\n",
    "    \n",
    "    \n",
    "    for i in range(-1,-1*n-1,-1):\n",
    "        right[i] = max(right[i+1],walls[i])\n",
    "    \n",
    "    water = 0\n",
    "    \n",
    "    for i in range(n):\n",
    "        water += min(left[i],right[i])-walls[i]\n",
    "    \n",
    "    return water\n"
   ]
  },
  {
   "cell_type": "code",
   "execution_count": 14,
   "metadata": {},
   "outputs": [
    {
     "data": {
      "text/plain": [
       "1"
      ]
     },
     "execution_count": 14,
     "metadata": {},
     "output_type": "execute_result"
    }
   ],
   "source": [
    "ex = [2,1,2]\n",
    "fill(ex)"
   ]
  },
  {
   "cell_type": "code",
   "execution_count": 15,
   "metadata": {},
   "outputs": [
    {
     "data": {
      "text/plain": [
       "8"
      ]
     },
     "execution_count": 15,
     "metadata": {},
     "output_type": "execute_result"
    }
   ],
   "source": [
    "ex = [3,0,1,3,0,5]\n",
    "fill(ex)"
   ]
  },
  {
   "cell_type": "code",
   "execution_count": 16,
   "metadata": {},
   "outputs": [
    {
     "data": {
      "text/plain": [
       "0"
      ]
     },
     "execution_count": 16,
     "metadata": {},
     "output_type": "execute_result"
    }
   ],
   "source": [
    "ex = [7]\n",
    "fill(ex)"
   ]
  },
  {
   "cell_type": "code",
   "execution_count": null,
   "metadata": {},
   "outputs": [],
   "source": []
  }
 ],
 "metadata": {
  "kernelspec": {
   "display_name": "Python 3",
   "language": "python",
   "name": "python3"
  },
  "language_info": {
   "codemirror_mode": {
    "name": "ipython",
    "version": 3
   },
   "file_extension": ".py",
   "mimetype": "text/x-python",
   "name": "python",
   "nbconvert_exporter": "python",
   "pygments_lexer": "ipython3",
   "version": "3.6.5"
  }
 },
 "nbformat": 4,
 "nbformat_minor": 2
}
